{
 "cells": [
  {
   "cell_type": "code",
   "execution_count": 1,
   "id": "32bef749",
   "metadata": {},
   "outputs": [],
   "source": [
    "from scipy.optimize import minimize\n",
    "import numpy as np"
   ]
  },
  {
   "cell_type": "code",
   "execution_count": 134,
   "id": "861d9635",
   "metadata": {},
   "outputs": [],
   "source": [
    "def objective_fn(x):\n",
    "    x1 = x[0]\n",
    "    x2 = x[1]\n",
    "    \n",
    "    return -(x1 + x2)/4**0.52"
   ]
  },
  {
   "cell_type": "code",
   "execution_count": 135,
   "id": "e714012e",
   "metadata": {},
   "outputs": [],
   "source": [
    "def equality_constraint(x):\n",
    "    x1 = x[0]\n",
    "    x2 = x[1]\n",
    "    \n",
    "    return x1 + x2/2 - x1"
   ]
  },
  {
   "cell_type": "code",
   "execution_count": 136,
   "id": "f1a2aaa9",
   "metadata": {},
   "outputs": [],
   "source": [
    "def inequality_constraint(x):\n",
    "    x1 = x[0]\n",
    "    x2 = x[1]\n",
    "    \n",
    "    return (x1 + x2)/2 - (x1 + x2)/2.5"
   ]
  },
  {
   "cell_type": "code",
   "execution_count": 137,
   "id": "17f642c5",
   "metadata": {},
   "outputs": [],
   "source": [
    "bounds_x1 = (-100, 100)\n",
    "bounds_x2 = (-100, 100)\n",
    "\n",
    "\n",
    "bounds = (180, 267)"
   ]
  },
  {
   "cell_type": "code",
   "execution_count": 138,
   "id": "868030b7",
   "metadata": {},
   "outputs": [],
   "source": [
    "constraint1 = {'type': 'eq', 'fun': equality_constraint}\n",
    "constraint2 = {'type': 'ineq', \"fun\": inequality_constraint}\n",
    "\n",
    "def constrain(x):\n",
    "    return x-2\n",
    "\n",
    "constraint2 = {'type': 'ineq', \"fun\": constrain}\n",
    "\n",
    "constraint = [constraint2]"
   ]
  },
  {
   "cell_type": "code",
   "execution_count": 139,
   "id": "fb323ca6",
   "metadata": {},
   "outputs": [],
   "source": [
    "x0 = [180,210]"
   ]
  },
  {
   "cell_type": "code",
   "execution_count": 140,
   "id": "92c250ea",
   "metadata": {},
   "outputs": [
    {
     "name": "stdout",
     "output_type": "stream",
     "text": [
      "     fun: -639.0343004498711\n",
      "     jac: array([-0.48632812, -0.48632812])\n",
      " message: 'Optimization terminated successfully'\n",
      "    nfev: 18\n",
      "     nit: 6\n",
      "    njev: 6\n",
      "  status: 0\n",
      " success: True\n",
      "       x: array([657., 657.])\n"
     ]
    }
   ],
   "source": [
    "result = minimize(objective_fn, x0, method = 'SLSQP', bounds=[(429,657)], constraints = constraint)\n",
    "\n",
    "print(result) "
   ]
  },
  {
   "cell_type": "code",
   "execution_count": null,
   "id": "d07d18f7",
   "metadata": {},
   "outputs": [],
   "source": []
  },
  {
   "cell_type": "code",
   "execution_count": null,
   "id": "3166ca71",
   "metadata": {},
   "outputs": [],
   "source": []
  }
 ],
 "metadata": {
  "kernelspec": {
   "display_name": "Python 3 (ipykernel)",
   "language": "python",
   "name": "python3"
  },
  "language_info": {
   "codemirror_mode": {
    "name": "ipython",
    "version": 3
   },
   "file_extension": ".py",
   "mimetype": "text/x-python",
   "name": "python",
   "nbconvert_exporter": "python",
   "pygments_lexer": "ipython3",
   "version": "3.9.13"
  }
 },
 "nbformat": 4,
 "nbformat_minor": 5
}
