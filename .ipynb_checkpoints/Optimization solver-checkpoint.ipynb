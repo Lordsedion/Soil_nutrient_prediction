{
 "cells": [
  {
   "cell_type": "code",
   "execution_count": 282,
   "id": "32bef749",
   "metadata": {},
   "outputs": [],
   "source": [
    "from scipy.optimize import minimize\n",
    "import numpy as np"
   ]
  },
  {
   "cell_type": "code",
   "execution_count": 283,
   "id": "861d9635",
   "metadata": {},
   "outputs": [],
   "source": [
    "def objective_fn(x):\n",
    "    x1 = x[0]\n",
    "    x2 = x[1]\n",
    "    \n",
    "    return -x1+x2/3"
   ]
  },
  {
   "cell_type": "code",
   "execution_count": 284,
   "id": "e714012e",
   "metadata": {},
   "outputs": [],
   "source": [
    "def equality_constraint(x):\n",
    "    x1 = x[0]\n",
    "    x2 = x[1]\n",
    "    \n",
    "    return x1 + x2/2 - x1"
   ]
  },
  {
   "cell_type": "code",
   "execution_count": 285,
   "id": "f1a2aaa9",
   "metadata": {},
   "outputs": [],
   "source": [
    "def inequality_constraint(x):\n",
    "    x1 = x[0]\n",
    "    x2 = x[1]\n",
    "    \n",
    "    return (x1 + x2)/2 - (x1 + x2)/2.5"
   ]
  },
  {
   "cell_type": "code",
   "execution_count": 286,
   "id": "17f642c5",
   "metadata": {},
   "outputs": [],
   "source": [
    "bounds_x1 = (-100, 100)\n",
    "bounds_x2 = (-100, 100)\n",
    "\n",
    "\n",
    "bounds = (180, 267)"
   ]
  },
  {
   "cell_type": "code",
   "execution_count": 287,
   "id": "868030b7",
   "metadata": {},
   "outputs": [],
   "source": [
    "constraint1 = {'type': 'eq', 'fun': equality_constraint}\n",
    "constraint2 = {'type': 'ineq', \"fun\": inequality_constraint}\n",
    "\n",
    "def constrain(x):\n",
    "    return x-2\n",
    "\n",
    "constraint2 = {'type': 'ineq', \"fun\": constrain}\n",
    "\n",
    "constraint = [constraint2]"
   ]
  },
  {
   "cell_type": "code",
   "execution_count": 288,
   "id": "fb323ca6",
   "metadata": {},
   "outputs": [],
   "source": [
    "x0 = [110,210]"
   ]
  },
  {
   "cell_type": "code",
   "execution_count": 296,
   "id": "92c250ea",
   "metadata": {},
   "outputs": [
    {
     "name": "stdout",
     "output_type": "stream",
     "text": [
      "     fun: -7.333333333333333\n",
      "     jac: array([-1.        ,  0.33333331])\n",
      " message: 'Optimization terminated successfully'\n",
      "    nfev: 12\n",
      "     nit: 4\n",
      "    njev: 4\n",
      "  status: 0\n",
      " success: True\n",
      "       x: array([9., 5.])\n"
     ]
    }
   ],
   "source": [
    "result = minimize(objective_fn, x0, method = 'SLSQP', bounds=[(5,9)], constraints = constraint)\n",
    "\n",
    "print(result)"
   ]
  },
  {
   "cell_type": "code",
   "execution_count": null,
   "id": "bfb6542f",
   "metadata": {},
   "outputs": [],
   "source": []
  },
  {
   "cell_type": "code",
   "execution_count": null,
   "id": "a0a114d9",
   "metadata": {},
   "outputs": [],
   "source": []
  },
  {
   "cell_type": "code",
   "execution_count": null,
   "id": "cf052ab6",
   "metadata": {},
   "outputs": [],
   "source": []
  }
 ],
 "metadata": {
  "kernelspec": {
   "display_name": "Python 3 (ipykernel)",
   "language": "python",
   "name": "python3"
  },
  "language_info": {
   "codemirror_mode": {
    "name": "ipython",
    "version": 3
   },
   "file_extension": ".py",
   "mimetype": "text/x-python",
   "name": "python",
   "nbconvert_exporter": "python",
   "pygments_lexer": "ipython3",
   "version": "3.9.13"
  }
 },
 "nbformat": 4,
 "nbformat_minor": 5
}
