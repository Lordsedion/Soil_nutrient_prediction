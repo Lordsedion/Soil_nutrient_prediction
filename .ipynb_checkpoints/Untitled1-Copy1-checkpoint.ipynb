{
 "cells": [
  {
   "cell_type": "code",
   "execution_count": 2,
   "id": "d89081d1",
   "metadata": {},
   "outputs": [],
   "source": [
    "from scipy.optimize import minimize\n",
    "import numpy as np"
   ]
  },
  {
   "cell_type": "code",
   "execution_count": 3,
   "id": "62dcfd24",
   "metadata": {},
   "outputs": [],
   "source": [
    "def objective_fn(x):\n",
    "    x1 = x[0]\n",
    "    x2 = x[1]\n",
    "    \n",
    "    return x1**2 + x1**2"
   ]
  },
  {
   "cell_type": "code",
   "execution_count": 4,
   "id": "79ce72fb",
   "metadata": {},
   "outputs": [],
   "source": [
    "def equality_constraint(x):\n",
    "    x1 = x[0]\n",
    "    x2 = x[1]\n",
    "    \n",
    "    return x1**3 + x1*x2 - 100"
   ]
  },
  {
   "cell_type": "code",
   "execution_count": 5,
   "id": "ab87aef3",
   "metadata": {},
   "outputs": [],
   "source": [
    "def inequality_constraint(x):\n",
    "    x1 = x[0]\n",
    "    x2 = x[1]\n",
    "    \n",
    "    return x1**2 + x2 -50"
   ]
  },
  {
   "cell_type": "code",
   "execution_count": 7,
   "id": "31f1b7fd",
   "metadata": {},
   "outputs": [],
   "source": [
    "bounds_x1 = (100, 100)\n",
    "bounds_x2 = (-100, 100)\n",
    "\n",
    "\n",
    "bounds = [bounds_x1, bounds_x2]"
   ]
  },
  {
   "cell_type": "code",
   "execution_count": 8,
   "id": "6319d297",
   "metadata": {},
   "outputs": [],
   "source": [
    "constraint1 = {'type': 'eq', 'fun': equality_constraint}\n",
    "constraint2 = {'type': 'ineq', \"fun\": inequality_constraint}\n",
    "\n",
    "constraint = [constraint1, constraint2]"
   ]
  },
  {
   "cell_type": "code",
   "execution_count": 9,
   "id": "c81b209a",
   "metadata": {},
   "outputs": [],
   "source": [
    "x0 = [1,1]"
   ]
  },
  {
   "cell_type": "code",
   "execution_count": 14,
   "id": "f7aa9a02",
   "metadata": {},
   "outputs": [
    {
     "name": "stdout",
     "output_type": "stream",
     "text": [
      "     fun: 20000.0\n",
      "     jac: array([nan,  0.])\n",
      " message: 'Iteration limit reached'\n",
      "    nfev: 1183\n",
      "     nit: 100\n",
      "    njev: 100\n",
      "  status: 9\n",
      " success: False\n",
      "       x: array([100.        , -21.48020309])\n"
     ]
    }
   ],
   "source": [
    "result = minimize(objective_fn, x0, method = 'SLSQP', bounds=bounds, constraints = constraint)\n",
    "\n",
    "print(result)"
   ]
  },
  {
   "cell_type": "code",
   "execution_count": null,
   "id": "1f3d1ce4",
   "metadata": {},
   "outputs": [],
   "source": []
  }
 ],
 "metadata": {
  "kernelspec": {
   "display_name": "Python 3 (ipykernel)",
   "language": "python",
   "name": "python3"
  },
  "language_info": {
   "codemirror_mode": {
    "name": "ipython",
    "version": 3
   },
   "file_extension": ".py",
   "mimetype": "text/x-python",
   "name": "python",
   "nbconvert_exporter": "python",
   "pygments_lexer": "ipython3",
   "version": "3.9.13"
  }
 },
 "nbformat": 4,
 "nbformat_minor": 5
}
