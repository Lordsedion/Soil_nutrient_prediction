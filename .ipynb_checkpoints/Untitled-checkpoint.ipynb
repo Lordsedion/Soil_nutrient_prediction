{
 "cells": [
  {
   "cell_type": "code",
   "execution_count": 1,
   "id": "6d9b877d",
   "metadata": {},
   "outputs": [],
   "source": [
    "solvername='glpk'\n",
    "\n",
    "solverpath_folder=r'C:\\Users\\user\\Downloads\\winglpk-4.55\\glpk-4.55\\w64' #does not need to be directly on c drive\n",
    "\n",
    "solverpath_exe=r'C:\\Users\\user\\Downloads\\winglpk-4.55\\glpk-4.55\\w64' #does not need to be directly on c drive"
   ]
  },
  {
   "cell_type": "code",
   "execution_count": 9,
   "id": "18a05164",
   "metadata": {},
   "outputs": [
    {
     "ename": "ValueError",
     "evalue": "ERROR: No objectives defined for input model. Cannot write legal LP file.",
     "output_type": "error",
     "traceback": [
      "\u001b[1;31m---------------------------------------------------------------------------\u001b[0m",
      "\u001b[1;31mValueError\u001b[0m                                Traceback (most recent call last)",
      "Cell \u001b[1;32mIn [9], line 18\u001b[0m\n\u001b[0;32m     10\u001b[0m \u001b[38;5;66;03m# Define objective function\u001b[39;00m\n\u001b[0;32m     11\u001b[0m \u001b[38;5;66;03m# model.obj = Objective(expr = (1/sum(model.x))*(sum((model.y[i]-mean(model.y))**2 for i in model.x)) + sum(model.x),sense=minimize)\u001b[39;00m\n\u001b[0;32m     12\u001b[0m \n\u001b[1;32m   (...)\u001b[0m\n\u001b[0;32m     15\u001b[0m \n\u001b[0;32m     16\u001b[0m \u001b[38;5;66;03m# Solve the model using a multi-objective optimization solver\u001b[39;00m\n\u001b[0;32m     17\u001b[0m solver \u001b[38;5;241m=\u001b[39m SolverFactory(\u001b[38;5;124m'\u001b[39m\u001b[38;5;124mglpk\u001b[39m\u001b[38;5;124m'\u001b[39m)\n\u001b[1;32m---> 18\u001b[0m solver\u001b[38;5;241m.\u001b[39msolve(model, tee\u001b[38;5;241m=\u001b[39m\u001b[38;5;28;01mTrue\u001b[39;00m)\n\u001b[0;32m     20\u001b[0m \u001b[38;5;66;03m# Print the results\u001b[39;00m\n\u001b[0;32m     21\u001b[0m \u001b[38;5;28mprint\u001b[39m(\u001b[38;5;124m\"\u001b[39m\u001b[38;5;124mOptimal nutrient level: \u001b[39m\u001b[38;5;124m\"\u001b[39m, value(model\u001b[38;5;241m.\u001b[39my))\n",
      "File \u001b[1;32m~\\AppData\\Local\\Programs\\Python\\Python39\\lib\\site-packages\\pyomo\\opt\\base\\solvers.py:570\u001b[0m, in \u001b[0;36mOptSolver.solve\u001b[1;34m(self, *args, **kwds)\u001b[0m\n\u001b[0;32m    565\u001b[0m \u001b[38;5;28;01mtry\u001b[39;00m:\n\u001b[0;32m    566\u001b[0m \n\u001b[0;32m    567\u001b[0m     \u001b[38;5;66;03m# we're good to go.\u001b[39;00m\n\u001b[0;32m    568\u001b[0m     initial_time \u001b[38;5;241m=\u001b[39m time\u001b[38;5;241m.\u001b[39mtime()\n\u001b[1;32m--> 570\u001b[0m     \u001b[38;5;28mself\u001b[39m\u001b[38;5;241m.\u001b[39m_presolve(\u001b[38;5;241m*\u001b[39margs, \u001b[38;5;241m*\u001b[39m\u001b[38;5;241m*\u001b[39mkwds)\n\u001b[0;32m    572\u001b[0m     presolve_completion_time \u001b[38;5;241m=\u001b[39m time\u001b[38;5;241m.\u001b[39mtime()\n\u001b[0;32m    573\u001b[0m     \u001b[38;5;28;01mif\u001b[39;00m \u001b[38;5;28mself\u001b[39m\u001b[38;5;241m.\u001b[39m_report_timing:\n",
      "File \u001b[1;32m~\\AppData\\Local\\Programs\\Python\\Python39\\lib\\site-packages\\pyomo\\opt\\solver\\shellcmd.py:209\u001b[0m, in \u001b[0;36mSystemCallSolver._presolve\u001b[1;34m(self, *args, **kwds)\u001b[0m\n\u001b[0;32m    206\u001b[0m \u001b[38;5;28mself\u001b[39m\u001b[38;5;241m.\u001b[39m_keepfiles \u001b[38;5;241m=\u001b[39m kwds\u001b[38;5;241m.\u001b[39mpop(\u001b[38;5;124m\"\u001b[39m\u001b[38;5;124mkeepfiles\u001b[39m\u001b[38;5;124m\"\u001b[39m, \u001b[38;5;28;01mFalse\u001b[39;00m)\n\u001b[0;32m    207\u001b[0m \u001b[38;5;28mself\u001b[39m\u001b[38;5;241m.\u001b[39m_define_signal_handlers \u001b[38;5;241m=\u001b[39m kwds\u001b[38;5;241m.\u001b[39mpop(\u001b[38;5;124m'\u001b[39m\u001b[38;5;124muse_signal_handling\u001b[39m\u001b[38;5;124m'\u001b[39m,\u001b[38;5;28;01mNone\u001b[39;00m)\n\u001b[1;32m--> 209\u001b[0m OptSolver\u001b[38;5;241m.\u001b[39m_presolve(\u001b[38;5;28mself\u001b[39m, \u001b[38;5;241m*\u001b[39margs, \u001b[38;5;241m*\u001b[39m\u001b[38;5;241m*\u001b[39mkwds)\n\u001b[0;32m    211\u001b[0m \u001b[38;5;66;03m#\u001b[39;00m\n\u001b[0;32m    212\u001b[0m \u001b[38;5;66;03m# Verify that the input problems exists\u001b[39;00m\n\u001b[0;32m    213\u001b[0m \u001b[38;5;66;03m#\u001b[39;00m\n\u001b[0;32m    214\u001b[0m \u001b[38;5;28;01mfor\u001b[39;00m filename \u001b[38;5;129;01min\u001b[39;00m \u001b[38;5;28mself\u001b[39m\u001b[38;5;241m.\u001b[39m_problem_files:\n",
      "File \u001b[1;32m~\\AppData\\Local\\Programs\\Python\\Python39\\lib\\site-packages\\pyomo\\opt\\base\\solvers.py:667\u001b[0m, in \u001b[0;36mOptSolver._presolve\u001b[1;34m(self, *args, **kwds)\u001b[0m\n\u001b[0;32m    664\u001b[0m \u001b[38;5;28;01mif\u001b[39;00m \u001b[38;5;28mself\u001b[39m\u001b[38;5;241m.\u001b[39m_problem_format:\n\u001b[0;32m    665\u001b[0m     write_start_time \u001b[38;5;241m=\u001b[39m time\u001b[38;5;241m.\u001b[39mtime()\n\u001b[0;32m    666\u001b[0m     (\u001b[38;5;28mself\u001b[39m\u001b[38;5;241m.\u001b[39m_problem_files, \u001b[38;5;28mself\u001b[39m\u001b[38;5;241m.\u001b[39m_problem_format, \u001b[38;5;28mself\u001b[39m\u001b[38;5;241m.\u001b[39m_smap_id) \u001b[38;5;241m=\u001b[39m \\\n\u001b[1;32m--> 667\u001b[0m         \u001b[38;5;28mself\u001b[39m\u001b[38;5;241m.\u001b[39m_convert_problem(args,\n\u001b[0;32m    668\u001b[0m                               \u001b[38;5;28mself\u001b[39m\u001b[38;5;241m.\u001b[39m_problem_format,\n\u001b[0;32m    669\u001b[0m                               \u001b[38;5;28mself\u001b[39m\u001b[38;5;241m.\u001b[39m_valid_problem_formats,\n\u001b[0;32m    670\u001b[0m                               \u001b[38;5;241m*\u001b[39m\u001b[38;5;241m*\u001b[39mkwds)\n\u001b[0;32m    671\u001b[0m     total_time \u001b[38;5;241m=\u001b[39m time\u001b[38;5;241m.\u001b[39mtime() \u001b[38;5;241m-\u001b[39m write_start_time\n\u001b[0;32m    672\u001b[0m     \u001b[38;5;28;01mif\u001b[39;00m \u001b[38;5;28mself\u001b[39m\u001b[38;5;241m.\u001b[39m_report_timing:\n",
      "File \u001b[1;32m~\\AppData\\Local\\Programs\\Python\\Python39\\lib\\site-packages\\pyomo\\opt\\base\\solvers.py:718\u001b[0m, in \u001b[0;36mOptSolver._convert_problem\u001b[1;34m(self, args, problem_format, valid_problem_formats, **kwds)\u001b[0m\n\u001b[0;32m    713\u001b[0m \u001b[38;5;28;01mdef\u001b[39;00m \u001b[38;5;21m_convert_problem\u001b[39m(\u001b[38;5;28mself\u001b[39m,\n\u001b[0;32m    714\u001b[0m                      args,\n\u001b[0;32m    715\u001b[0m                      problem_format,\n\u001b[0;32m    716\u001b[0m                      valid_problem_formats,\n\u001b[0;32m    717\u001b[0m                      \u001b[38;5;241m*\u001b[39m\u001b[38;5;241m*\u001b[39mkwds):\n\u001b[1;32m--> 718\u001b[0m     \u001b[38;5;28;01mreturn\u001b[39;00m convert_problem(args,\n\u001b[0;32m    719\u001b[0m                            problem_format,\n\u001b[0;32m    720\u001b[0m                            valid_problem_formats,\n\u001b[0;32m    721\u001b[0m                            \u001b[38;5;28mself\u001b[39m\u001b[38;5;241m.\u001b[39mhas_capability,\n\u001b[0;32m    722\u001b[0m                            \u001b[38;5;241m*\u001b[39m\u001b[38;5;241m*\u001b[39mkwds)\n",
      "File \u001b[1;32m~\\AppData\\Local\\Programs\\Python\\Python39\\lib\\site-packages\\pyomo\\opt\\base\\convert.py:101\u001b[0m, in \u001b[0;36mconvert_problem\u001b[1;34m(args, target_problem_type, valid_problem_types, has_capability, **kwds)\u001b[0m\n\u001b[0;32m     99\u001b[0m                 tmpkw \u001b[38;5;241m=\u001b[39m kwds\n\u001b[0;32m    100\u001b[0m                 tmpkw[\u001b[38;5;124m'\u001b[39m\u001b[38;5;124mcapabilities\u001b[39m\u001b[38;5;124m'\u001b[39m] \u001b[38;5;241m=\u001b[39m has_capability\n\u001b[1;32m--> 101\u001b[0m                 problem_files, symbol_map \u001b[38;5;241m=\u001b[39m converter\u001b[38;5;241m.\u001b[39mapply(\u001b[38;5;241m*\u001b[39mtmp, \u001b[38;5;241m*\u001b[39m\u001b[38;5;241m*\u001b[39mtmpkw)\n\u001b[0;32m    102\u001b[0m                 \u001b[38;5;28;01mreturn\u001b[39;00m problem_files, ptype, symbol_map\n\u001b[0;32m    104\u001b[0m msg \u001b[38;5;241m=\u001b[39m \u001b[38;5;124m'\u001b[39m\u001b[38;5;124mNo conversion possible.  Source problem type: \u001b[39m\u001b[38;5;132;01m%s\u001b[39;00m\u001b[38;5;124m.  Valid target \u001b[39m\u001b[38;5;124m'\u001b[39m  \\\n\u001b[0;32m    105\u001b[0m       \u001b[38;5;124m'\u001b[39m\u001b[38;5;124mtypes: \u001b[39m\u001b[38;5;132;01m%s\u001b[39;00m\u001b[38;5;124m'\u001b[39m\n",
      "File \u001b[1;32m~\\AppData\\Local\\Programs\\Python\\Python39\\lib\\site-packages\\pyomo\\solvers\\plugins\\converter\\model.py:78\u001b[0m, in \u001b[0;36mPyomoMIPConverter.apply\u001b[1;34m(self, *args, **kwds)\u001b[0m\n\u001b[0;32m     70\u001b[0m         symbol_map_id \u001b[38;5;241m=\u001b[39m instance\u001b[38;5;241m.\u001b[39mwrite(\n\u001b[0;32m     71\u001b[0m             problem_filename,\n\u001b[0;32m     72\u001b[0m             \u001b[38;5;28mformat\u001b[39m\u001b[38;5;241m=\u001b[39mProblemFormat\u001b[38;5;241m.\u001b[39mcpxlp,\n\u001b[0;32m     73\u001b[0m             _solver_capability\u001b[38;5;241m=\u001b[39mcapabilities,\n\u001b[0;32m     74\u001b[0m             _called_by_solver\u001b[38;5;241m=\u001b[39m\u001b[38;5;28;01mTrue\u001b[39;00m,\n\u001b[0;32m     75\u001b[0m             \u001b[38;5;241m*\u001b[39m\u001b[38;5;241m*\u001b[39mio_options)\n\u001b[0;32m     76\u001b[0m     \u001b[38;5;28;01melse\u001b[39;00m:\n\u001b[0;32m     77\u001b[0m         (problem_filename, symbol_map_id) \u001b[38;5;241m=\u001b[39m \\\n\u001b[1;32m---> 78\u001b[0m             \u001b[43minstance\u001b[49m\u001b[38;5;241;43m.\u001b[39;49m\u001b[43mwrite\u001b[49m\u001b[43m(\u001b[49m\n\u001b[0;32m     79\u001b[0m \u001b[43m                \u001b[49m\u001b[43mfilename\u001b[49m\u001b[38;5;241;43m=\u001b[39;49m\u001b[43mproblem_filename\u001b[49m\u001b[43m,\u001b[49m\n\u001b[0;32m     80\u001b[0m \u001b[43m                \u001b[49m\u001b[38;5;28;43mformat\u001b[39;49m\u001b[38;5;241;43m=\u001b[39;49m\u001b[43mProblemFormat\u001b[49m\u001b[38;5;241;43m.\u001b[39;49m\u001b[43mcpxlp\u001b[49m\u001b[43m,\u001b[49m\n\u001b[0;32m     81\u001b[0m \u001b[43m                \u001b[49m\u001b[43msolver_capability\u001b[49m\u001b[38;5;241;43m=\u001b[39;49m\u001b[43mcapabilities\u001b[49m\u001b[43m,\u001b[49m\n\u001b[0;32m     82\u001b[0m \u001b[43m                \u001b[49m\u001b[43mio_options\u001b[49m\u001b[38;5;241;43m=\u001b[39;49m\u001b[43mio_options\u001b[49m\u001b[43m)\u001b[49m\n\u001b[0;32m     83\u001b[0m     \u001b[38;5;28;01mreturn\u001b[39;00m (problem_filename,), symbol_map_id\n\u001b[0;32m     84\u001b[0m \u001b[38;5;28;01melse\u001b[39;00m:\n\u001b[0;32m     85\u001b[0m \n\u001b[0;32m     86\u001b[0m     \u001b[38;5;66;03m#\u001b[39;00m\n\u001b[1;32m   (...)\u001b[0m\n\u001b[0;32m     90\u001b[0m     \u001b[38;5;66;03m# arguments that can be sent to the writer?\u001b[39;00m\n\u001b[0;32m     91\u001b[0m     \u001b[38;5;66;03m#\u001b[39;00m\n",
      "File \u001b[1;32m~\\AppData\\Local\\Programs\\Python\\Python39\\lib\\site-packages\\pyomo\\core\\base\\block.py:2015\u001b[0m, in \u001b[0;36m_BlockData.write\u001b[1;34m(self, filename, format, solver_capability, io_options)\u001b[0m\n\u001b[0;32m   2013\u001b[0m \u001b[38;5;28;01mif\u001b[39;00m solver_capability \u001b[38;5;129;01mis\u001b[39;00m \u001b[38;5;28;01mNone\u001b[39;00m:\n\u001b[0;32m   2014\u001b[0m     \u001b[38;5;28;01mdef\u001b[39;00m \u001b[38;5;21msolver_capability\u001b[39m(x): \u001b[38;5;28;01mreturn\u001b[39;00m \u001b[38;5;28;01mTrue\u001b[39;00m\n\u001b[1;32m-> 2015\u001b[0m (filename, smap) \u001b[38;5;241m=\u001b[39m \u001b[43mproblem_writer\u001b[49m\u001b[43m(\u001b[49m\u001b[38;5;28;43mself\u001b[39;49m\u001b[43m,\u001b[49m\n\u001b[0;32m   2016\u001b[0m \u001b[43m                                  \u001b[49m\u001b[43mfilename\u001b[49m\u001b[43m,\u001b[49m\n\u001b[0;32m   2017\u001b[0m \u001b[43m                                  \u001b[49m\u001b[43msolver_capability\u001b[49m\u001b[43m,\u001b[49m\n\u001b[0;32m   2018\u001b[0m \u001b[43m                                  \u001b[49m\u001b[43mio_options\u001b[49m\u001b[43m)\u001b[49m\n\u001b[0;32m   2019\u001b[0m smap_id \u001b[38;5;241m=\u001b[39m \u001b[38;5;28mid\u001b[39m(smap)\n\u001b[0;32m   2020\u001b[0m \u001b[38;5;28;01mif\u001b[39;00m \u001b[38;5;129;01mnot\u001b[39;00m \u001b[38;5;28mhasattr\u001b[39m(\u001b[38;5;28mself\u001b[39m, \u001b[38;5;124m'\u001b[39m\u001b[38;5;124msolutions\u001b[39m\u001b[38;5;124m'\u001b[39m):\n\u001b[0;32m   2021\u001b[0m     \u001b[38;5;66;03m# This is a bit of a hack.  The write() method was moved\u001b[39;00m\n\u001b[0;32m   2022\u001b[0m     \u001b[38;5;66;03m# here from PyomoModel to support the solution of arbitrary\u001b[39;00m\n\u001b[1;32m   (...)\u001b[0m\n\u001b[0;32m   2027\u001b[0m     \u001b[38;5;66;03m# dependency (we only need it here because we store the\u001b[39;00m\n\u001b[0;32m   2028\u001b[0m     \u001b[38;5;66;03m# SymbolMap returned by the writer in the solutions).\u001b[39;00m\n",
      "File \u001b[1;32mpyomo\\repn\\plugins\\cpxlp.pyx:158\u001b[0m, in \u001b[0;36mpyomo.repn.plugins.cpxlp.ProblemWriter_cpxlp.__call__\u001b[1;34m()\u001b[0m\n",
      "File \u001b[1;32mpyomo\\repn\\plugins\\cpxlp.pyx:159\u001b[0m, in \u001b[0;36mpyomo.repn.plugins.cpxlp.ProblemWriter_cpxlp.__call__\u001b[1;34m()\u001b[0m\n",
      "File \u001b[1;32mpyomo\\repn\\plugins\\cpxlp.pyx:160\u001b[0m, in \u001b[0;36mpyomo.repn.plugins.cpxlp.ProblemWriter_cpxlp.__call__\u001b[1;34m()\u001b[0m\n",
      "File \u001b[1;32mpyomo\\repn\\plugins\\cpxlp.pyx:608\u001b[0m, in \u001b[0;36mpyomo.repn.plugins.cpxlp.ProblemWriter_cpxlp._print_model_LP\u001b[1;34m()\u001b[0m\n",
      "\u001b[1;31mValueError\u001b[0m: ERROR: No objectives defined for input model. Cannot write legal LP file."
     ]
    }
   ],
   "source": [
    "from pyomo.environ import *\n",
    "\n",
    "# Create the model\n",
    "model = ConcreteModel()\n",
    "\n",
    "# Define decision variables\n",
    "model.x = Var(within=Binary, bounds=(0,500), doc='Binary variable indicating if a soil sample is collected at a given location')\n",
    "model.y = Var(within=NonNegativeReals, doc='Value of nutrient in the soil')\n",
    "\n",
    "# Define objective function\n",
    "model.obj = Objective(expr = (1/sum(model.x))*(sum((model.y[i]-mean(model.y))**2 for i in model.x)) + sum(model.x),sense=minimize)\n",
    "\n",
    "# Define constraints\n",
    "model.con1 = Constraint(expr = sum(model.x) <= 10)\n",
    "\n",
    "# Solve the model using a multi-objective optimization solver\n",
    "solver = SolverFactory('glpk')\n",
    "solver.solve(model, tee=True)\n",
    "\n",
    "# Print the results\n",
    "print(\"Optimal nutrient level: \", value(model.y))\n",
    "print(\"Optimal locations: \", [i for i in model.x if value(model.x[i]) == 1])\n"
   ]
  },
  {
   "cell_type": "code",
   "execution_count": 12,
   "id": "3bdb5d8b",
   "metadata": {},
   "outputs": [
    {
     "ename": "SyntaxError",
     "evalue": "invalid syntax (171950711.py, line 1)",
     "output_type": "error",
     "traceback": [
      "\u001b[1;36m  Cell \u001b[1;32mIn [12], line 1\u001b[1;36m\u001b[0m\n\u001b[1;33m    0.25 0.5 1 2 4 8 16 32 64 128 256 512 1024 2048 4096 8192\u001b[0m\n\u001b[1;37m         ^\u001b[0m\n\u001b[1;31mSyntaxError\u001b[0m\u001b[1;31m:\u001b[0m invalid syntax\n"
     ]
    }
   ],
   "source": [
    "0.25 0.5 1 2 4 8 16 32 64 128 256 512 1024 2048 4096 8192 "
   ]
  },
  {
   "cell_type": "code",
   "execution_count": null,
   "id": "705d885b",
   "metadata": {},
   "outputs": [],
   "source": [
    "from pyomo.environ import *\n",
    "\n",
    "# Create the model\n",
    "model = ConcreteModel()\n",
    "\n",
    "# Define decision variables\n",
    "model.x = Var(within=Binary, bounds=(0,1), doc='Binary variable indicating if a soil sample is collected at a given location')\n",
    "model.y = Var(within=NonNegativeReals, doc='Value of nutrient in the soil')\n",
    "\n",
    "# Define objective function\n",
    "model.obj = Objective(expr = (1/sum(model.x))*(sum((model.y[i]-mean(model.y))**2 for i in model.x)) + sum(model.x),sense=minimize)\n",
    "\n",
    "# Define constraints\n",
    "model.con1 = Constraint(expr = sum(model.x) <= 10)\n",
    "\n",
    "# Solve the model using a multi-objective optimization solver\n",
    "solver = SolverFactory('glpk')\n",
    "solver.solve(model, tee=True)\n",
    "\n",
    "# Print the results\n",
    "print(\"Optimal nutrient level: \", value(model.y))\n",
    "print(\"Optimal locations: \", [i for i in model.x if value(model.x[i]) == 1])"
   ]
  },
  {
   "cell_type": "code",
   "execution_count": 4,
   "id": "60a6ce93",
   "metadata": {},
   "outputs": [
    {
     "ename": "NameError",
     "evalue": "name 'nutrient_data' is not defined",
     "output_type": "error",
     "traceback": [
      "\u001b[1;31m---------------------------------------------------------------------------\u001b[0m",
      "\u001b[1;31mNameError\u001b[0m                                 Traceback (most recent call last)",
      "Cell \u001b[1;32mIn [4], line 16\u001b[0m\n\u001b[0;32m     13\u001b[0m     \u001b[38;5;28;01mreturn\u001b[39;00m \u001b[38;5;28msum\u001b[39m(x) \u001b[38;5;241m-\u001b[39m \u001b[38;5;241m10\u001b[39m\n\u001b[0;32m     15\u001b[0m \u001b[38;5;66;03m# Set the bounds for the decision variables\u001b[39;00m\n\u001b[1;32m---> 16\u001b[0m bounds \u001b[38;5;241m=\u001b[39m [(\u001b[38;5;241m0\u001b[39m,\u001b[38;5;241m1\u001b[39m) \u001b[38;5;28;01mfor\u001b[39;00m i \u001b[38;5;129;01min\u001b[39;00m \u001b[38;5;28mrange\u001b[39m(\u001b[38;5;28mlen\u001b[39m(nutrient_data))]\n\u001b[0;32m     18\u001b[0m \u001b[38;5;66;03m# Solve the multi-objective optimization problem\u001b[39;00m\n\u001b[0;32m     19\u001b[0m result \u001b[38;5;241m=\u001b[39m minimize(objective, [\u001b[38;5;241m0\u001b[39m]\u001b[38;5;241m*\u001b[39m\u001b[38;5;28mlen\u001b[39m(nutrient_data), args\u001b[38;5;241m=\u001b[39m(nutrient_data), bounds\u001b[38;5;241m=\u001b[39mbounds, constraints\u001b[38;5;241m=\u001b[39m{\u001b[38;5;124m\"\u001b[39m\u001b[38;5;124mtype\u001b[39m\u001b[38;5;124m\"\u001b[39m: \u001b[38;5;124m\"\u001b[39m\u001b[38;5;124meq\u001b[39m\u001b[38;5;124m\"\u001b[39m, \u001b[38;5;124m\"\u001b[39m\u001b[38;5;124mfun\u001b[39m\u001b[38;5;124m\"\u001b[39m: constraint})\n",
      "\u001b[1;31mNameError\u001b[0m: name 'nutrient_data' is not defined"
     ]
    }
   ],
   "source": [
    "from scipy.optimize import minimize\n",
    "\n",
    "# Define the objective function\n",
    "def objective(x, nutrient_data):\n",
    "    variance = 0\n",
    "    for i in range(len(x)):\n",
    "        if x[i] == 1:\n",
    "            variance += (nutrient_data[i]-np.mean(nutrient_data))**2\n",
    "    return variance, sum(x)\n",
    "\n",
    "# Define the constraint\n",
    "def constraint(x):\n",
    "    return sum(x) - 10\n",
    "\n",
    "# Set the bounds for the decision variables\n",
    "bounds = [(0,1) for i in range(len(nutrient_data))]\n",
    "\n",
    "# Solve the multi-objective optimization problem\n",
    "result = minimize(objective, [0]*len(nutrient_data), args=(nutrient_data), bounds=bounds, constraints={\"type\": \"eq\", \"fun\": constraint})\n",
    "\n",
    "# Print the results\n",
    "print(\"Optimal nutrient level: \", result.fun)\n",
    "print(\"Optimal locations: \", [i for i in range(len(result.x)) if result.x[i] == 1])\n"
   ]
  },
  {
   "cell_type": "code",
   "execution_count": null,
   "id": "f4017e0a",
   "metadata": {},
   "outputs": [],
   "source": []
  }
 ],
 "metadata": {
  "kernelspec": {
   "display_name": "Python 3 (ipykernel)",
   "language": "python",
   "name": "python3"
  },
  "language_info": {
   "codemirror_mode": {
    "name": "ipython",
    "version": 3
   },
   "file_extension": ".py",
   "mimetype": "text/x-python",
   "name": "python",
   "nbconvert_exporter": "python",
   "pygments_lexer": "ipython3",
   "version": "3.9.13"
  }
 },
 "nbformat": 4,
 "nbformat_minor": 5
}
