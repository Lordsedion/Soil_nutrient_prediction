{
 "cells": [
  {
   "cell_type": "markdown",
   "id": "a4aecfe7",
   "metadata": {},
   "source": [
    "## # Optimization solver modified"
   ]
  },
  {
   "cell_type": "code",
   "execution_count": 1,
   "id": "fe7f5828",
   "metadata": {},
   "outputs": [],
   "source": [
    "def square(x):\n",
    "    return x**2"
   ]
  },
  {
   "cell_type": "code",
   "execution_count": 2,
   "id": "152d941d",
   "metadata": {},
   "outputs": [],
   "source": [
    "def sqroot(x):\n",
    "    return x**0.5"
   ]
  },
  {
   "cell_type": "code",
   "execution_count": 64,
   "id": "ca6c735b",
   "metadata": {},
   "outputs": [],
   "source": [
    "def optimizer(x, ratio=1.4):\n",
    "    result = sqroot(square(x[0])+square(x[1]))/ratio\n",
    "    while result > x[1]:\n",
    "        ratio += 0.0001\n",
    "        result = sqroot(square(x[0])+square(x[1]))/ratio\n",
    "    while result < x[0]:\n",
    "        ratio -= 0.0001\n",
    "        result = sqroot(square(x[0])+square(x[1]))/ratio\n",
    "    return result"
   ]
  },
  {
   "cell_type": "code",
   "execution_count": 72,
   "id": "60207d0b",
   "metadata": {},
   "outputs": [
    {
     "data": {
      "text/plain": [
       "262.0562332549163"
      ]
     },
     "execution_count": 72,
     "metadata": {},
     "output_type": "execute_result"
    }
   ],
   "source": [
    "optimizer([110, 350])"
   ]
  },
  {
   "cell_type": "code",
   "execution_count": null,
   "id": "ef534fc3",
   "metadata": {},
   "outputs": [],
   "source": []
  }
 ],
 "metadata": {
  "kernelspec": {
   "display_name": "Python 3 (ipykernel)",
   "language": "python",
   "name": "python3"
  },
  "language_info": {
   "codemirror_mode": {
    "name": "ipython",
    "version": 3
   },
   "file_extension": ".py",
   "mimetype": "text/x-python",
   "name": "python",
   "nbconvert_exporter": "python",
   "pygments_lexer": "ipython3",
   "version": "3.9.13"
  }
 },
 "nbformat": 4,
 "nbformat_minor": 5
}
