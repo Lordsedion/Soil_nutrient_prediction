{
 "cells": [
  {
   "cell_type": "code",
   "execution_count": 1,
   "id": "d89081d1",
   "metadata": {},
   "outputs": [],
   "source": [
    "from scipy.optimize import minimize\n",
    "import numpy as np"
   ]
  },
  {
   "cell_type": "code",
   "execution_count": 56,
   "id": "62dcfd24",
   "metadata": {},
   "outputs": [],
   "source": [
    "def objective_fn(x, sign=-1.0):\n",
    "    x1 = x[0]\n",
    "    x2 = x[1]\n",
    "    \n",
    "    return -(x1 + x2)/2"
   ]
  },
  {
   "cell_type": "code",
   "execution_count": 57,
   "id": "79ce72fb",
   "metadata": {},
   "outputs": [],
   "source": [
    "def equality_constraint(x):\n",
    "    x1 = x[0]\n",
    "    x2 = x[1]\n",
    "    \n",
    "    return x1**3 + x1*x2 - 1000"
   ]
  },
  {
   "cell_type": "code",
   "execution_count": 58,
   "id": "ab87aef3",
   "metadata": {},
   "outputs": [],
   "source": [
    "def inequality_constraint(x):\n",
    "    x1 = x[0]\n",
    "    x2 = x[1]\n",
    "    \n",
    "    return x1**2 + x2 -500"
   ]
  },
  {
   "cell_type": "code",
   "execution_count": 59,
   "id": "31f1b7fd",
   "metadata": {},
   "outputs": [],
   "source": [
    "bounds_x1 = (1000, 1000)\n",
    "bounds_x2 = (-1000, 1000)\n",
    "\n",
    "\n",
    "bounds = [bounds_x1, bounds_x2]"
   ]
  },
  {
   "cell_type": "code",
   "execution_count": 60,
   "id": "6319d297",
   "metadata": {},
   "outputs": [],
   "source": [
    "constraint1 = {'type': 'eq', 'fun': equality_constraint}\n",
    "constraint2 = {'type': 'ineq', \"fun\": inequality_constraint}\n",
    "\n",
    "constraint = [constraint1, constraint2]"
   ]
  },
  {
   "cell_type": "code",
   "execution_count": 61,
   "id": "c81b209a",
   "metadata": {},
   "outputs": [],
   "source": [
    "x0 = [160, 245]"
   ]
  },
  {
   "cell_type": "code",
   "execution_count": 62,
   "id": "f7aa9a02",
   "metadata": {},
   "outputs": [
    {
     "name": "stdout",
     "output_type": "stream",
     "text": [
      "     fun: -564.9583150561906\n",
      "     jac: array([ nan, -0.5])\n",
      " message: 'Iteration limit reached'\n",
      "    nfev: 1190\n",
      "     nit: 100\n",
      "    njev: 100\n",
      "  status: 9\n",
      " success: False\n",
      "       x: array([1000.        ,  129.91663011])\n"
     ]
    }
   ],
   "source": [
    "result = minimize(objective_fn, x0, method = 'SLSQP', bounds=bounds, constraints = constraint)\n",
    "\n",
    "print(result)"
   ]
  },
  {
   "cell_type": "code",
   "execution_count": null,
   "id": "1f3d1ce4",
   "metadata": {},
   "outputs": [],
   "source": []
  }
 ],
 "metadata": {
  "kernelspec": {
   "display_name": "Python 3 (ipykernel)",
   "language": "python",
   "name": "python3"
  },
  "language_info": {
   "codemirror_mode": {
    "name": "ipython",
    "version": 3
   },
   "file_extension": ".py",
   "mimetype": "text/x-python",
   "name": "python",
   "nbconvert_exporter": "python",
   "pygments_lexer": "ipython3",
   "version": "3.9.13"
  }
 },
 "nbformat": 4,
 "nbformat_minor": 5
}
