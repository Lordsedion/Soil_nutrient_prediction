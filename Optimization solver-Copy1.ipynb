{
 "cells": [
  {
   "cell_type": "code",
   "execution_count": 2,
   "id": "32bef749",
   "metadata": {},
   "outputs": [],
   "source": [
    "from scipy.optimize import minimize\n",
    "import numpy as np"
   ]
  },
  {
   "cell_type": "code",
   "execution_count": 272,
   "id": "861d9635",
   "metadata": {},
   "outputs": [],
   "source": [
    "def objective_fn(x):\n",
    "    x1 = x[0]\n",
    "    x2 = x[1]\n",
    "    \n",
    "    return (-x[0]**2 - x[1]**2)**0.5"
   ]
  },
  {
   "cell_type": "code",
   "execution_count": 273,
   "id": "e714012e",
   "metadata": {},
   "outputs": [],
   "source": [
    "def equality_constraint(x):\n",
    "    x1 = x[0]\n",
    "    x2 = x[1]\n",
    "    \n",
    "    return x1 + x2/2 - x1"
   ]
  },
  {
   "cell_type": "code",
   "execution_count": 274,
   "id": "f1a2aaa9",
   "metadata": {},
   "outputs": [],
   "source": [
    "def inequality_constraint(x):\n",
    "    x1 = x[0]\n",
    "    x2 = x[1]\n",
    "    \n",
    "    return (x1 + x2)/2 - (x1 + x2)/2.5"
   ]
  },
  {
   "cell_type": "code",
   "execution_count": 275,
   "id": "17f642c5",
   "metadata": {},
   "outputs": [],
   "source": [
    "bounds_x1 = (-100, 100)\n",
    "bounds_x2 = (-100, 100)\n",
    "\n",
    "\n",
    "bounds = (180, 267)"
   ]
  },
  {
   "cell_type": "code",
   "execution_count": 276,
   "id": "868030b7",
   "metadata": {},
   "outputs": [],
   "source": [
    "constraint1 = {'type': 'eq', 'fun': equality_constraint}\n",
    "constraint2 = {'type': 'ineq', \"fun\": inequality_constraint}\n",
    "\n",
    "def constrain(x):\n",
    "    return x-2\n",
    "\n",
    "# constraint2 = {'type': 'ineq', \"fun\": constrain}\n",
    "\n",
    "constraint = [constraint1, constraint2]"
   ]
  },
  {
   "cell_type": "code",
   "execution_count": 277,
   "id": "fb323ca6",
   "metadata": {},
   "outputs": [],
   "source": [
    "x0 = [11, 10]"
   ]
  },
  {
   "cell_type": "code",
   "execution_count": 278,
   "id": "92c250ea",
   "metadata": {},
   "outputs": [
    {
     "name": "stdout",
     "output_type": "stream",
     "text": [
      "     fun: nan\n",
      "     jac: array([nan, nan])\n",
      " message: 'Inequality constraints incompatible'\n",
      "    nfev: 3\n",
      "     nit: 1\n",
      "    njev: 1\n",
      "  status: 4\n",
      " success: False\n",
      "       x: array([180., 180.])\n"
     ]
    },
    {
     "name": "stderr",
     "output_type": "stream",
     "text": [
      "C:\\Users\\user\\AppData\\Local\\Temp\\ipykernel_7496\\3485894939.py:5: RuntimeWarning: invalid value encountered in double_scalars\n",
      "  return (-x[0]**2 - x[1]**2)**0.5\n"
     ]
    }
   ],
   "source": [
    "result = minimize(objective_fn, x0, method = 'SLSQP', bounds=[(180, 210)], constraints = constraint)\n",
    "\n",
    "print(result) "
   ]
  },
  {
   "cell_type": "code",
   "execution_count": null,
   "id": "d07d18f7",
   "metadata": {},
   "outputs": [],
   "source": []
  },
  {
   "cell_type": "code",
   "execution_count": null,
   "id": "c1ec45e1",
   "metadata": {},
   "outputs": [],
   "source": []
  },
  {
   "cell_type": "code",
   "execution_count": null,
   "id": "50ae5785",
   "metadata": {},
   "outputs": [],
   "source": []
  }
 ],
 "metadata": {
  "kernelspec": {
   "display_name": "Python 3 (ipykernel)",
   "language": "python",
   "name": "python3"
  },
  "language_info": {
   "codemirror_mode": {
    "name": "ipython",
    "version": 3
   },
   "file_extension": ".py",
   "mimetype": "text/x-python",
   "name": "python",
   "nbconvert_exporter": "python",
   "pygments_lexer": "ipython3",
   "version": "3.9.13"
  }
 },
 "nbformat": 4,
 "nbformat_minor": 5
}
