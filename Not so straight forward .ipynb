{
 "cells": [
  {
   "cell_type": "markdown",
   "id": "9e944a1d",
   "metadata": {},
   "source": [
    "## # Optimization solver modified"
   ]
  },
  {
   "cell_type": "code",
   "execution_count": 2,
   "id": "3b4dceab",
   "metadata": {},
   "outputs": [],
   "source": [
    "def square(x):\n",
    "    return x**2"
   ]
  },
  {
   "cell_type": "code",
   "execution_count": 3,
   "id": "5c625a9a",
   "metadata": {},
   "outputs": [],
   "source": [
    "def sqroot(x):\n",
    "    return x**0.5"
   ]
  },
  {
   "cell_type": "code",
   "execution_count": 12,
   "id": "269de5fa",
   "metadata": {},
   "outputs": [],
   "source": [
    "def optimizer(x, ratio=1.35):\n",
    "    result = sqroot(square(x[0])+square(x[1]))/ratio\n",
    "    while result > x[1]:\n",
    "        ratio += 0.0001\n",
    "        result = sqroot(square(x[0])+square(x[1]))/ratio\n",
    "    while result < x[0]:\n",
    "        ratio -= 0.0001\n",
    "        result = sqroot(square(x[0])+square(x[1]))/ratio\n",
    "    return result"
   ]
  },
  {
   "cell_type": "code",
   "execution_count": 20,
   "id": "bcd02e02",
   "metadata": {},
   "outputs": [
    {
     "data": {
      "text/plain": [
       "9.938079899999066"
      ]
     },
     "execution_count": 20,
     "metadata": {},
     "output_type": "execute_result"
    }
   ],
   "source": [
    "optimizer([6, 12])"
   ]
  },
  {
   "cell_type": "code",
   "execution_count": 8,
   "id": "19dc0558",
   "metadata": {},
   "outputs": [
    {
     "data": {
      "text/plain": [
       "16"
      ]
     },
     "execution_count": 8,
     "metadata": {},
     "output_type": "execute_result"
    }
   ],
   "source": [
    "7+9"
   ]
  },
  {
   "cell_type": "code",
   "execution_count": null,
   "id": "c857b6cb",
   "metadata": {},
   "outputs": [],
   "source": []
  }
 ],
 "metadata": {
  "kernelspec": {
   "display_name": "Python 3 (ipykernel)",
   "language": "python",
   "name": "python3"
  },
  "language_info": {
   "codemirror_mode": {
    "name": "ipython",
    "version": 3
   },
   "file_extension": ".py",
   "mimetype": "text/x-python",
   "name": "python",
   "nbconvert_exporter": "python",
   "pygments_lexer": "ipython3",
   "version": "3.9.13"
  }
 },
 "nbformat": 4,
 "nbformat_minor": 5
}
